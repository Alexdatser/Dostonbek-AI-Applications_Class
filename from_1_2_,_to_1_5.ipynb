{
  "nbformat": 4,
  "nbformat_minor": 0,
  "metadata": {
    "colab": {
      "provenance": [],
      "authorship_tag": "ABX9TyOfQ7iCTwdnJDuzWg25f5Nh",
      "include_colab_link": true
    },
    "kernelspec": {
      "name": "python3",
      "display_name": "Python 3"
    },
    "language_info": {
      "name": "python"
    },
    "widgets": {
      "application/vnd.jupyter.widget-state+json": {
        "4dab752740264b248d70bc467b362542": {
          "model_module": "@jupyter-widgets/controls",
          "model_name": "HBoxModel",
          "model_module_version": "1.5.0",
          "state": {
            "_dom_classes": [],
            "_model_module": "@jupyter-widgets/controls",
            "_model_module_version": "1.5.0",
            "_model_name": "HBoxModel",
            "_view_count": null,
            "_view_module": "@jupyter-widgets/controls",
            "_view_module_version": "1.5.0",
            "_view_name": "HBoxView",
            "box_style": "",
            "children": [
              "IPY_MODEL_2ef6cb1fdaa048aa89e730af1f8b76a9",
              "IPY_MODEL_4c6a2695eb4d4b4d885163bde1702a6b",
              "IPY_MODEL_19f15fc35d414437b681009c56722087"
            ],
            "layout": "IPY_MODEL_a87a9ca09fe94ad5905dd6e2a333f847"
          }
        },
        "2ef6cb1fdaa048aa89e730af1f8b76a9": {
          "model_module": "@jupyter-widgets/controls",
          "model_name": "HTMLModel",
          "model_module_version": "1.5.0",
          "state": {
            "_dom_classes": [],
            "_model_module": "@jupyter-widgets/controls",
            "_model_module_version": "1.5.0",
            "_model_name": "HTMLModel",
            "_view_count": null,
            "_view_module": "@jupyter-widgets/controls",
            "_view_module_version": "1.5.0",
            "_view_name": "HTMLView",
            "description": "",
            "description_tooltip": null,
            "layout": "IPY_MODEL_e68e9ea52aa347aa9a455829cecb38ed",
            "placeholder": "​",
            "style": "IPY_MODEL_ef17be92327b45fd940bdf364b85f840",
            "value": "100%"
          }
        },
        "4c6a2695eb4d4b4d885163bde1702a6b": {
          "model_module": "@jupyter-widgets/controls",
          "model_name": "FloatProgressModel",
          "model_module_version": "1.5.0",
          "state": {
            "_dom_classes": [],
            "_model_module": "@jupyter-widgets/controls",
            "_model_module_version": "1.5.0",
            "_model_name": "FloatProgressModel",
            "_view_count": null,
            "_view_module": "@jupyter-widgets/controls",
            "_view_module_version": "1.5.0",
            "_view_name": "ProgressView",
            "bar_style": "success",
            "description": "",
            "description_tooltip": null,
            "layout": "IPY_MODEL_8275f40b0d0544e188c522125a027aa7",
            "max": 170498071,
            "min": 0,
            "orientation": "horizontal",
            "style": "IPY_MODEL_a47af7a961874e7b9785a05c3eb8cd41",
            "value": 170498071
          }
        },
        "19f15fc35d414437b681009c56722087": {
          "model_module": "@jupyter-widgets/controls",
          "model_name": "HTMLModel",
          "model_module_version": "1.5.0",
          "state": {
            "_dom_classes": [],
            "_model_module": "@jupyter-widgets/controls",
            "_model_module_version": "1.5.0",
            "_model_name": "HTMLModel",
            "_view_count": null,
            "_view_module": "@jupyter-widgets/controls",
            "_view_module_version": "1.5.0",
            "_view_name": "HTMLView",
            "description": "",
            "description_tooltip": null,
            "layout": "IPY_MODEL_fb714170cea843a8ba6995a974406766",
            "placeholder": "​",
            "style": "IPY_MODEL_ebecc1614d2a4315806e2d13ee5bcbb1",
            "value": " 170498071/170498071 [00:02&lt;00:00, 66285469.20it/s]"
          }
        },
        "a87a9ca09fe94ad5905dd6e2a333f847": {
          "model_module": "@jupyter-widgets/base",
          "model_name": "LayoutModel",
          "model_module_version": "1.2.0",
          "state": {
            "_model_module": "@jupyter-widgets/base",
            "_model_module_version": "1.2.0",
            "_model_name": "LayoutModel",
            "_view_count": null,
            "_view_module": "@jupyter-widgets/base",
            "_view_module_version": "1.2.0",
            "_view_name": "LayoutView",
            "align_content": null,
            "align_items": null,
            "align_self": null,
            "border": null,
            "bottom": null,
            "display": null,
            "flex": null,
            "flex_flow": null,
            "grid_area": null,
            "grid_auto_columns": null,
            "grid_auto_flow": null,
            "grid_auto_rows": null,
            "grid_column": null,
            "grid_gap": null,
            "grid_row": null,
            "grid_template_areas": null,
            "grid_template_columns": null,
            "grid_template_rows": null,
            "height": null,
            "justify_content": null,
            "justify_items": null,
            "left": null,
            "margin": null,
            "max_height": null,
            "max_width": null,
            "min_height": null,
            "min_width": null,
            "object_fit": null,
            "object_position": null,
            "order": null,
            "overflow": null,
            "overflow_x": null,
            "overflow_y": null,
            "padding": null,
            "right": null,
            "top": null,
            "visibility": null,
            "width": null
          }
        },
        "e68e9ea52aa347aa9a455829cecb38ed": {
          "model_module": "@jupyter-widgets/base",
          "model_name": "LayoutModel",
          "model_module_version": "1.2.0",
          "state": {
            "_model_module": "@jupyter-widgets/base",
            "_model_module_version": "1.2.0",
            "_model_name": "LayoutModel",
            "_view_count": null,
            "_view_module": "@jupyter-widgets/base",
            "_view_module_version": "1.2.0",
            "_view_name": "LayoutView",
            "align_content": null,
            "align_items": null,
            "align_self": null,
            "border": null,
            "bottom": null,
            "display": null,
            "flex": null,
            "flex_flow": null,
            "grid_area": null,
            "grid_auto_columns": null,
            "grid_auto_flow": null,
            "grid_auto_rows": null,
            "grid_column": null,
            "grid_gap": null,
            "grid_row": null,
            "grid_template_areas": null,
            "grid_template_columns": null,
            "grid_template_rows": null,
            "height": null,
            "justify_content": null,
            "justify_items": null,
            "left": null,
            "margin": null,
            "max_height": null,
            "max_width": null,
            "min_height": null,
            "min_width": null,
            "object_fit": null,
            "object_position": null,
            "order": null,
            "overflow": null,
            "overflow_x": null,
            "overflow_y": null,
            "padding": null,
            "right": null,
            "top": null,
            "visibility": null,
            "width": null
          }
        },
        "ef17be92327b45fd940bdf364b85f840": {
          "model_module": "@jupyter-widgets/controls",
          "model_name": "DescriptionStyleModel",
          "model_module_version": "1.5.0",
          "state": {
            "_model_module": "@jupyter-widgets/controls",
            "_model_module_version": "1.5.0",
            "_model_name": "DescriptionStyleModel",
            "_view_count": null,
            "_view_module": "@jupyter-widgets/base",
            "_view_module_version": "1.2.0",
            "_view_name": "StyleView",
            "description_width": ""
          }
        },
        "8275f40b0d0544e188c522125a027aa7": {
          "model_module": "@jupyter-widgets/base",
          "model_name": "LayoutModel",
          "model_module_version": "1.2.0",
          "state": {
            "_model_module": "@jupyter-widgets/base",
            "_model_module_version": "1.2.0",
            "_model_name": "LayoutModel",
            "_view_count": null,
            "_view_module": "@jupyter-widgets/base",
            "_view_module_version": "1.2.0",
            "_view_name": "LayoutView",
            "align_content": null,
            "align_items": null,
            "align_self": null,
            "border": null,
            "bottom": null,
            "display": null,
            "flex": null,
            "flex_flow": null,
            "grid_area": null,
            "grid_auto_columns": null,
            "grid_auto_flow": null,
            "grid_auto_rows": null,
            "grid_column": null,
            "grid_gap": null,
            "grid_row": null,
            "grid_template_areas": null,
            "grid_template_columns": null,
            "grid_template_rows": null,
            "height": null,
            "justify_content": null,
            "justify_items": null,
            "left": null,
            "margin": null,
            "max_height": null,
            "max_width": null,
            "min_height": null,
            "min_width": null,
            "object_fit": null,
            "object_position": null,
            "order": null,
            "overflow": null,
            "overflow_x": null,
            "overflow_y": null,
            "padding": null,
            "right": null,
            "top": null,
            "visibility": null,
            "width": null
          }
        },
        "a47af7a961874e7b9785a05c3eb8cd41": {
          "model_module": "@jupyter-widgets/controls",
          "model_name": "ProgressStyleModel",
          "model_module_version": "1.5.0",
          "state": {
            "_model_module": "@jupyter-widgets/controls",
            "_model_module_version": "1.5.0",
            "_model_name": "ProgressStyleModel",
            "_view_count": null,
            "_view_module": "@jupyter-widgets/base",
            "_view_module_version": "1.2.0",
            "_view_name": "StyleView",
            "bar_color": null,
            "description_width": ""
          }
        },
        "fb714170cea843a8ba6995a974406766": {
          "model_module": "@jupyter-widgets/base",
          "model_name": "LayoutModel",
          "model_module_version": "1.2.0",
          "state": {
            "_model_module": "@jupyter-widgets/base",
            "_model_module_version": "1.2.0",
            "_model_name": "LayoutModel",
            "_view_count": null,
            "_view_module": "@jupyter-widgets/base",
            "_view_module_version": "1.2.0",
            "_view_name": "LayoutView",
            "align_content": null,
            "align_items": null,
            "align_self": null,
            "border": null,
            "bottom": null,
            "display": null,
            "flex": null,
            "flex_flow": null,
            "grid_area": null,
            "grid_auto_columns": null,
            "grid_auto_flow": null,
            "grid_auto_rows": null,
            "grid_column": null,
            "grid_gap": null,
            "grid_row": null,
            "grid_template_areas": null,
            "grid_template_columns": null,
            "grid_template_rows": null,
            "height": null,
            "justify_content": null,
            "justify_items": null,
            "left": null,
            "margin": null,
            "max_height": null,
            "max_width": null,
            "min_height": null,
            "min_width": null,
            "object_fit": null,
            "object_position": null,
            "order": null,
            "overflow": null,
            "overflow_x": null,
            "overflow_y": null,
            "padding": null,
            "right": null,
            "top": null,
            "visibility": null,
            "width": null
          }
        },
        "ebecc1614d2a4315806e2d13ee5bcbb1": {
          "model_module": "@jupyter-widgets/controls",
          "model_name": "DescriptionStyleModel",
          "model_module_version": "1.5.0",
          "state": {
            "_model_module": "@jupyter-widgets/controls",
            "_model_module_version": "1.5.0",
            "_model_name": "DescriptionStyleModel",
            "_view_count": null,
            "_view_module": "@jupyter-widgets/base",
            "_view_module_version": "1.2.0",
            "_view_name": "StyleView",
            "description_width": ""
          }
        }
      }
    }
  },
  "cells": [
    {
      "cell_type": "markdown",
      "metadata": {
        "id": "view-in-github",
        "colab_type": "text"
      },
      "source": [
        "<a href=\"https://colab.research.google.com/github/Alexdatser/Dostonbek-AI-Applications_Class/blob/main/from_1_2_%2C_to_1_5.ipynb\" target=\"_parent\"><img src=\"https://colab.research.google.com/assets/colab-badge.svg\" alt=\"Open In Colab\"/></a>"
      ]
    },
    {
      "cell_type": "code",
      "execution_count": 1,
      "metadata": {
        "colab": {
          "base_uri": "https://localhost:8080/"
        },
        "id": "QjGp2IZQ-Lut",
        "outputId": "49e3c496-3da4-4879-b59f-dc607eb771c2"
      },
      "outputs": [
        {
          "output_type": "stream",
          "name": "stdout",
          "text": [
            "Looking in indexes: https://pypi.org/simple, https://us-python.pkg.dev/colab-wheels/public/simple/\n",
            "Requirement already satisfied: requests in /usr/local/lib/python3.7/dist-packages (2.23.0)\n",
            "Requirement already satisfied: certifi>=2017.4.17 in /usr/local/lib/python3.7/dist-packages (from requests) (2022.9.24)\n",
            "Requirement already satisfied: idna<3,>=2.5 in /usr/local/lib/python3.7/dist-packages (from requests) (2.10)\n",
            "Requirement already satisfied: chardet<4,>=3.0.2 in /usr/local/lib/python3.7/dist-packages (from requests) (3.0.4)\n",
            "Requirement already satisfied: urllib3!=1.25.0,!=1.25.1,<1.26,>=1.21.1 in /usr/local/lib/python3.7/dist-packages (from requests) (1.24.3)\n"
          ]
        }
      ],
      "source": [
        "!pip install requests\n"
      ]
    },
    {
      "cell_type": "code",
      "source": [
        "import requests\n",
        "url = \"https://raw.githubusercontent.com/NVDLI/LDL/main/pt_framework/utilities.py\" \n",
        "r=requests.get(url) \n",
        "with open('utilities.py', 'w') as f: \n",
        "  f.write(r.text)"
      ],
      "metadata": {
        "id": "KefNhZ_A-g7W"
      },
      "execution_count": 3,
      "outputs": []
    },
    {
      "cell_type": "code",
      "source": [
        "import torch\n",
        "import torch.nn as nn\n",
        "import torchvision\n",
        "import torchvision. transforms as transforms\n",
        "from torchvision.datasets import CIFAR10 \n",
        "from torch.utils.data import DataLoader\n",
        "import numpy as np\n",
        "from utilities import train_model\n",
        "\n",
        "device = torch.device(\"cuda:0\" if torch.cuda.is_available() else \"cpu\")\n",
        "\n",
        "EPOCHS = 30\n",
        "\n",
        "BATCH_SIZE=32\n",
        "\n",
        "\n",
        "\n",
        "transform = transforms.Compose([transforms. ToTensor()]) \n",
        "trainset=CIFAR10(root=\"./pt_data\", train=True, download=True, transform=transform) \n",
        "trainloader=DataLoader(trainset, batch_size=len(trainset), shuffle=False) \n",
        "data=next(iter (trainloader))\n",
        "\n",
        "mean = data[0].mean()\n",
        "\n",
        "stddev = data[0].std()"
      ],
      "metadata": {
        "colab": {
          "base_uri": "https://localhost:8080/",
          "height": 84,
          "referenced_widgets": [
            "4dab752740264b248d70bc467b362542",
            "2ef6cb1fdaa048aa89e730af1f8b76a9",
            "4c6a2695eb4d4b4d885163bde1702a6b",
            "19f15fc35d414437b681009c56722087",
            "a87a9ca09fe94ad5905dd6e2a333f847",
            "e68e9ea52aa347aa9a455829cecb38ed",
            "ef17be92327b45fd940bdf364b85f840",
            "8275f40b0d0544e188c522125a027aa7",
            "a47af7a961874e7b9785a05c3eb8cd41",
            "fb714170cea843a8ba6995a974406766",
            "ebecc1614d2a4315806e2d13ee5bcbb1"
          ]
        },
        "id": "Yn61Q8IJ-n3X",
        "outputId": "d4d7cbcc-3ac3-433f-d8d5-8f7ae9be11d7"
      },
      "execution_count": 4,
      "outputs": [
        {
          "output_type": "stream",
          "name": "stdout",
          "text": [
            "Downloading https://www.cs.toronto.edu/~kriz/cifar-10-python.tar.gz to ./pt_data/cifar-10-python.tar.gz\n"
          ]
        },
        {
          "output_type": "display_data",
          "data": {
            "text/plain": [
              "  0%|          | 0/170498071 [00:00<?, ?it/s]"
            ],
            "application/vnd.jupyter.widget-view+json": {
              "version_major": 2,
              "version_minor": 0,
              "model_id": "4dab752740264b248d70bc467b362542"
            }
          },
          "metadata": {}
        },
        {
          "output_type": "stream",
          "name": "stdout",
          "text": [
            "Extracting ./pt_data/cifar-10-python.tar.gz to ./pt_data\n"
          ]
        }
      ]
    },
    {
      "cell_type": "code",
      "source": [
        "transform=transforms.Compose( \n",
        "    [transforms.ToTensor(),\n",
        "     transforms.Normalize(mean,stddev)])\n",
        "\n",
        "trainset = CIFAR10(root='./pt_data', train=True, download=True,transform=transform) \n",
        "testset = CIFAR10(root='./pt_data', train=False, download=True,transform=transform)\n",
        "\n",
        "\n",
        "model = nn. Sequential(\n",
        "    nn.Conv2d(3, 64, 5, stride=2, padding=2),\n",
        "    nn.ReLU(),\n",
        "    nn. Conv2d(64, 64, 3, stride=2, padding=1),\n",
        "    nn.ReLU(),\n",
        "    nn.Flatten(),\n",
        "    nn.Linear (64*8*8, 10)\n",
        ")"
      ],
      "metadata": {
        "colab": {
          "base_uri": "https://localhost:8080/"
        },
        "id": "rUgqsBYM-tOf",
        "outputId": "5f403459-85e5-40e0-c97f-9c289cef384d"
      },
      "execution_count": 5,
      "outputs": [
        {
          "output_type": "stream",
          "name": "stdout",
          "text": [
            "Files already downloaded and verified\n",
            "Files already downloaded and verified\n"
          ]
        }
      ]
    },
    {
      "cell_type": "code",
      "source": [
        "layers = next (model.modules())\n",
        "conv_layer0=layers[0]\n",
        "\n",
        "conv_layer1=layers[2]\n",
        "\n",
        "output_layer=layers[5]\n",
        "\n",
        "\n",
        "nn.init.kaiming_normal_(conv_layer0.weight)\n",
        "\n",
        "nn.init.constant(conv_layer0.bias,0.0)\n",
        "\n",
        "nn.init.kaiming_normal_(conv_layer1.weight)\n",
        "\n",
        "nn.init.constant (conv_layer1.bias, 0.0)\n",
        "\n",
        "nn. init.xavier_uniform (output_layer.weight)\n",
        "\n",
        "nn.init.constant (output_layer.bias, 0.0)\n",
        "\n",
        "optimizer = torch.optim.Adam(model.parameters()) \n",
        "loss_function = nn.CrossEntropyLoss()\n",
        "\n",
        "train_model(model, device, EPOCHS, BATCH_SIZE, trainset, testset, optimizer, loss_function, 'acc')"
      ],
      "metadata": {
        "colab": {
          "base_uri": "https://localhost:8080/"
        },
        "id": "JOYZ63yd-v-U",
        "outputId": "9160c20a-9b5e-4ccb-9028-d99bc382c791"
      },
      "execution_count": 7,
      "outputs": [
        {
          "metadata": {
            "tags": null
          },
          "name": "stderr",
          "output_type": "stream",
          "text": [
            "/usr/local/lib/python3.7/dist-packages/ipykernel_launcher.py:11: UserWarning: nn.init.constant is now deprecated in favor of nn.init.constant_.\n",
            "  # This is added back by InteractiveShellApp.init_path()\n",
            "/usr/local/lib/python3.7/dist-packages/ipykernel_launcher.py:15: UserWarning: nn.init.constant is now deprecated in favor of nn.init.constant_.\n",
            "  from ipykernel import kernelapp as app\n",
            "/usr/local/lib/python3.7/dist-packages/ipykernel_launcher.py:17: UserWarning: nn.init.xavier_uniform is now deprecated in favor of nn.init.xavier_uniform_.\n",
            "/usr/local/lib/python3.7/dist-packages/ipykernel_launcher.py:19: UserWarning: nn.init.constant is now deprecated in favor of nn.init.constant_.\n"
          ]
        },
        {
          "output_type": "stream",
          "name": "stdout",
          "text": [
            "Epoch 1/30 loss: 1.4108 - acc: 0.5027 - val_loss: 1.1453 - val_acc: 0.5974\n",
            "Epoch 2/30 loss: 1.0373 - acc: 0.6380 - val_loss: 1.0582 - val_acc: 0.6358\n",
            "Epoch 3/30 loss: 0.8992 - acc: 0.6889 - val_loss: 1.0096 - val_acc: 0.6531\n",
            "Epoch 4/30 loss: 0.8061 - acc: 0.7192 - val_loss: 1.0280 - val_acc: 0.6571\n",
            "Epoch 5/30 loss: 0.7291 - acc: 0.7454 - val_loss: 1.0490 - val_acc: 0.6570\n",
            "Epoch 6/30 loss: 0.6595 - acc: 0.7702 - val_loss: 1.0850 - val_acc: 0.6562\n",
            "Epoch 7/30 loss: 0.5988 - acc: 0.7903 - val_loss: 1.1397 - val_acc: 0.6471\n",
            "Epoch 8/30 loss: 0.5499 - acc: 0.8091 - val_loss: 1.1681 - val_acc: 0.6538\n",
            "Epoch 9/30 loss: 0.5051 - acc: 0.8235 - val_loss: 1.2650 - val_acc: 0.6421\n",
            "Epoch 10/30 loss: 0.4654 - acc: 0.8349 - val_loss: 1.3274 - val_acc: 0.6343\n",
            "Epoch 11/30 loss: 0.4226 - acc: 0.8493 - val_loss: 1.3575 - val_acc: 0.6480\n",
            "Epoch 12/30 loss: 0.3932 - acc: 0.8588 - val_loss: 1.5391 - val_acc: 0.6333\n",
            "Epoch 13/30 loss: 0.3647 - acc: 0.8700 - val_loss: 1.5650 - val_acc: 0.6384\n",
            "Epoch 14/30 loss: 0.3339 - acc: 0.8822 - val_loss: 1.6781 - val_acc: 0.6388\n",
            "Epoch 15/30 loss: 0.3097 - acc: 0.8886 - val_loss: 1.8005 - val_acc: 0.6321\n",
            "Epoch 16/30 loss: 0.2933 - acc: 0.8949 - val_loss: 1.8385 - val_acc: 0.6385\n",
            "Epoch 17/30 loss: 0.2725 - acc: 0.9012 - val_loss: 1.9247 - val_acc: 0.6267\n",
            "Epoch 18/30 loss: 0.2550 - acc: 0.9068 - val_loss: 2.0872 - val_acc: 0.6216\n",
            "Epoch 19/30 loss: 0.2395 - acc: 0.9129 - val_loss: 2.1420 - val_acc: 0.6250\n",
            "Epoch 20/30 loss: 0.2329 - acc: 0.9163 - val_loss: 2.2747 - val_acc: 0.6286\n",
            "Epoch 21/30 loss: 0.2155 - acc: 0.9221 - val_loss: 2.2716 - val_acc: 0.6253\n",
            "Epoch 22/30 loss: 0.2027 - acc: 0.9269 - val_loss: 2.4004 - val_acc: 0.6257\n",
            "Epoch 23/30 loss: 0.2057 - acc: 0.9249 - val_loss: 2.5137 - val_acc: 0.6182\n",
            "Epoch 24/30 loss: 0.1941 - acc: 0.9293 - val_loss: 2.6091 - val_acc: 0.6166\n",
            "Epoch 25/30 loss: 0.1807 - acc: 0.9349 - val_loss: 2.7119 - val_acc: 0.6255\n",
            "Epoch 26/30 loss: 0.1728 - acc: 0.9376 - val_loss: 2.8512 - val_acc: 0.6220\n",
            "Epoch 27/30 loss: 0.1684 - acc: 0.9390 - val_loss: 2.8918 - val_acc: 0.6276\n",
            "Epoch 28/30 loss: 0.1709 - acc: 0.9398 - val_loss: 3.1039 - val_acc: 0.6186\n",
            "Epoch 29/30 loss: 0.1653 - acc: 0.9412 - val_loss: 3.1438 - val_acc: 0.6161\n",
            "Epoch 30/30 loss: 0.1621 - acc: 0.9440 - val_loss: 3.2350 - val_acc: 0.6173\n"
          ]
        },
        {
          "output_type": "execute_result",
          "data": {
            "text/plain": [
              "[0.9439979206653871, 0.6173123003194888]"
            ]
          },
          "metadata": {},
          "execution_count": 7
        }
      ]
    },
    {
      "cell_type": "code",
      "source": [],
      "metadata": {
        "id": "XysmUO-h-2eG"
      },
      "execution_count": null,
      "outputs": []
    }
  ]
}